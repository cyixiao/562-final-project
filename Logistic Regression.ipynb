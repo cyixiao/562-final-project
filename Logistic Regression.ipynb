{
 "cells": [
  {
   "cell_type": "code",
   "execution_count": 3,
   "metadata": {},
   "outputs": [],
   "source": [
    "import numpy as np\n",
    "import matplotlib.pyplot as plt\n",
    "import tensorflow as tf\n",
    "from tensorflow import keras\n",
    "from sklearn.metrics import accuracy_score, classification_report, confusion_matrix\n",
    "from tensorflow.keras.models import Sequential\n",
    "from tensorflow.keras.layers import Dense, Flatten\n",
    "from tensorflow.keras.utils import to_categorical\n"
   ]
  },
  {
   "cell_type": "code",
   "execution_count": 4,
   "metadata": {},
   "outputs": [
    {
     "name": "stdout",
     "output_type": "stream",
     "text": [
      "Requirement already satisfied: tensorflow[and-cuda] in c:\\users\\danny\\anaconda3\\lib\\site-packages (2.13.1)\n",
      "Requirement already satisfied: tensorflow-intel==2.13.1 in c:\\users\\danny\\anaconda3\\lib\\site-packages (from tensorflow[and-cuda]) (2.13.1)\n",
      "Requirement already satisfied: absl-py>=1.0.0 in c:\\users\\danny\\anaconda3\\lib\\site-packages (from tensorflow-intel==2.13.1->tensorflow[and-cuda]) (2.1.0)\n",
      "Requirement already satisfied: astunparse>=1.6.0 in c:\\users\\danny\\anaconda3\\lib\\site-packages (from tensorflow-intel==2.13.1->tensorflow[and-cuda]) (1.6.3)\n",
      "Requirement already satisfied: flatbuffers>=23.1.21 in c:\\users\\danny\\anaconda3\\lib\\site-packages (from tensorflow-intel==2.13.1->tensorflow[and-cuda]) (24.3.25)\n",
      "Requirement already satisfied: gast<=0.4.0,>=0.2.1 in c:\\users\\danny\\anaconda3\\lib\\site-packages (from tensorflow-intel==2.13.1->tensorflow[and-cuda]) (0.4.0)\n",
      "Requirement already satisfied: google-pasta>=0.1.1 in c:\\users\\danny\\anaconda3\\lib\\site-packages (from tensorflow-intel==2.13.1->tensorflow[and-cuda]) (0.2.0)\n",
      "Requirement already satisfied: h5py>=2.9.0 in c:\\users\\danny\\anaconda3\\lib\\site-packages (from tensorflow-intel==2.13.1->tensorflow[and-cuda]) (3.7.0)\n",
      "Requirement already satisfied: libclang>=13.0.0 in c:\\users\\danny\\anaconda3\\lib\\site-packages (from tensorflow-intel==2.13.1->tensorflow[and-cuda]) (18.1.1)\n",
      "Requirement already satisfied: numpy<=1.24.3,>=1.22 in c:\\users\\danny\\anaconda3\\lib\\site-packages (from tensorflow-intel==2.13.1->tensorflow[and-cuda]) (1.24.3)\n",
      "Requirement already satisfied: opt-einsum>=2.3.2 in c:\\users\\danny\\anaconda3\\lib\\site-packages (from tensorflow-intel==2.13.1->tensorflow[and-cuda]) (3.3.0)\n",
      "Requirement already satisfied: packaging in c:\\users\\danny\\anaconda3\\lib\\site-packages (from tensorflow-intel==2.13.1->tensorflow[and-cuda]) (23.0)\n",
      "Requirement already satisfied: protobuf!=4.21.0,!=4.21.1,!=4.21.2,!=4.21.3,!=4.21.4,!=4.21.5,<5.0.0dev,>=3.20.3 in c:\\users\\danny\\anaconda3\\lib\\site-packages (from tensorflow-intel==2.13.1->tensorflow[and-cuda]) (4.25.3)\n",
      "Requirement already satisfied: setuptools in c:\\users\\danny\\anaconda3\\lib\\site-packages (from tensorflow-intel==2.13.1->tensorflow[and-cuda]) (68.0.0)\n",
      "Requirement already satisfied: six>=1.12.0 in c:\\users\\danny\\anaconda3\\lib\\site-packages (from tensorflow-intel==2.13.1->tensorflow[and-cuda]) (1.16.0)\n",
      "Requirement already satisfied: termcolor>=1.1.0 in c:\\users\\danny\\anaconda3\\lib\\site-packages (from tensorflow-intel==2.13.1->tensorflow[and-cuda]) (2.4.0)\n",
      "Requirement already satisfied: typing-extensions<4.6.0,>=3.6.6 in c:\\users\\danny\\anaconda3\\lib\\site-packages (from tensorflow-intel==2.13.1->tensorflow[and-cuda]) (4.5.0)\n",
      "Requirement already satisfied: wrapt>=1.11.0 in c:\\users\\danny\\anaconda3\\lib\\site-packages (from tensorflow-intel==2.13.1->tensorflow[and-cuda]) (1.14.1)\n",
      "Requirement already satisfied: grpcio<2.0,>=1.24.3 in c:\\users\\danny\\anaconda3\\lib\\site-packages (from tensorflow-intel==2.13.1->tensorflow[and-cuda]) (1.62.2)\n",
      "Requirement already satisfied: tensorboard<2.14,>=2.13 in c:\\users\\danny\\anaconda3\\lib\\site-packages (from tensorflow-intel==2.13.1->tensorflow[and-cuda]) (2.13.0)\n",
      "Requirement already satisfied: tensorflow-estimator<2.14,>=2.13.0 in c:\\users\\danny\\anaconda3\\lib\\site-packages (from tensorflow-intel==2.13.1->tensorflow[and-cuda]) (2.13.0)\n",
      "Requirement already satisfied: keras<2.14,>=2.13.1 in c:\\users\\danny\\anaconda3\\lib\\site-packages (from tensorflow-intel==2.13.1->tensorflow[and-cuda]) (2.13.1)\n",
      "Requirement already satisfied: tensorflow-io-gcs-filesystem>=0.23.1 in c:\\users\\danny\\anaconda3\\lib\\site-packages (from tensorflow-intel==2.13.1->tensorflow[and-cuda]) (0.31.0)\n",
      "Requirement already satisfied: wheel<1.0,>=0.23.0 in c:\\users\\danny\\anaconda3\\lib\\site-packages (from astunparse>=1.6.0->tensorflow-intel==2.13.1->tensorflow[and-cuda]) (0.38.4)\n",
      "Requirement already satisfied: google-auth<3,>=1.6.3 in c:\\users\\danny\\anaconda3\\lib\\site-packages (from tensorboard<2.14,>=2.13->tensorflow-intel==2.13.1->tensorflow[and-cuda]) (2.29.0)\n",
      "Requirement already satisfied: google-auth-oauthlib<1.1,>=0.5 in c:\\users\\danny\\anaconda3\\lib\\site-packages (from tensorboard<2.14,>=2.13->tensorflow-intel==2.13.1->tensorflow[and-cuda]) (1.0.0)\n",
      "Requirement already satisfied: markdown>=2.6.8 in c:\\users\\danny\\anaconda3\\lib\\site-packages (from tensorboard<2.14,>=2.13->tensorflow-intel==2.13.1->tensorflow[and-cuda]) (3.4.1)\n",
      "Requirement already satisfied: requests<3,>=2.21.0 in c:\\users\\danny\\anaconda3\\lib\\site-packages (from tensorboard<2.14,>=2.13->tensorflow-intel==2.13.1->tensorflow[and-cuda]) (2.31.0)\n",
      "Requirement already satisfied: tensorboard-data-server<0.8.0,>=0.7.0 in c:\\users\\danny\\anaconda3\\lib\\site-packages (from tensorboard<2.14,>=2.13->tensorflow-intel==2.13.1->tensorflow[and-cuda]) (0.7.2)\n",
      "Requirement already satisfied: werkzeug>=1.0.1 in c:\\users\\danny\\anaconda3\\lib\\site-packages (from tensorboard<2.14,>=2.13->tensorflow-intel==2.13.1->tensorflow[and-cuda]) (2.2.3)\n",
      "Requirement already satisfied: cachetools<6.0,>=2.0.0 in c:\\users\\danny\\anaconda3\\lib\\site-packages (from google-auth<3,>=1.6.3->tensorboard<2.14,>=2.13->tensorflow-intel==2.13.1->tensorflow[and-cuda]) (5.3.3)\n",
      "Requirement already satisfied: pyasn1-modules>=0.2.1 in c:\\users\\danny\\anaconda3\\lib\\site-packages (from google-auth<3,>=1.6.3->tensorboard<2.14,>=2.13->tensorflow-intel==2.13.1->tensorflow[and-cuda]) (0.2.8)\n",
      "Requirement already satisfied: rsa<5,>=3.1.4 in c:\\users\\danny\\anaconda3\\lib\\site-packages (from google-auth<3,>=1.6.3->tensorboard<2.14,>=2.13->tensorflow-intel==2.13.1->tensorflow[and-cuda]) (4.9)\n",
      "Requirement already satisfied: requests-oauthlib>=0.7.0 in c:\\users\\danny\\anaconda3\\lib\\site-packages (from google-auth-oauthlib<1.1,>=0.5->tensorboard<2.14,>=2.13->tensorflow-intel==2.13.1->tensorflow[and-cuda]) (2.0.0)\n",
      "Requirement already satisfied: charset-normalizer<4,>=2 in c:\\users\\danny\\anaconda3\\lib\\site-packages (from requests<3,>=2.21.0->tensorboard<2.14,>=2.13->tensorflow-intel==2.13.1->tensorflow[and-cuda]) (2.0.4)\n",
      "Requirement already satisfied: idna<4,>=2.5 in c:\\users\\danny\\anaconda3\\lib\\site-packages (from requests<3,>=2.21.0->tensorboard<2.14,>=2.13->tensorflow-intel==2.13.1->tensorflow[and-cuda]) (3.4)\n",
      "Requirement already satisfied: urllib3<3,>=1.21.1 in c:\\users\\danny\\anaconda3\\lib\\site-packages (from requests<3,>=2.21.0->tensorboard<2.14,>=2.13->tensorflow-intel==2.13.1->tensorflow[and-cuda]) (1.26.16)\n",
      "Requirement already satisfied: certifi>=2017.4.17 in c:\\users\\danny\\anaconda3\\lib\\site-packages (from requests<3,>=2.21.0->tensorboard<2.14,>=2.13->tensorflow-intel==2.13.1->tensorflow[and-cuda]) (2023.7.22)\n",
      "Requirement already satisfied: MarkupSafe>=2.1.1 in c:\\users\\danny\\anaconda3\\lib\\site-packages (from werkzeug>=1.0.1->tensorboard<2.14,>=2.13->tensorflow-intel==2.13.1->tensorflow[and-cuda]) (2.1.1)\n",
      "Requirement already satisfied: pyasn1<0.5.0,>=0.4.6 in c:\\users\\danny\\anaconda3\\lib\\site-packages (from pyasn1-modules>=0.2.1->google-auth<3,>=1.6.3->tensorboard<2.14,>=2.13->tensorflow-intel==2.13.1->tensorflow[and-cuda]) (0.4.8)\n",
      "Requirement already satisfied: oauthlib>=3.0.0 in c:\\users\\danny\\anaconda3\\lib\\site-packages (from requests-oauthlib>=0.7.0->google-auth-oauthlib<1.1,>=0.5->tensorboard<2.14,>=2.13->tensorflow-intel==2.13.1->tensorflow[and-cuda]) (3.2.2)\n",
      "Note: you may need to restart the kernel to use updated packages.\n"
     ]
    },
    {
     "name": "stderr",
     "output_type": "stream",
     "text": [
      "WARNING: tensorflow 2.13.1 does not provide the extra 'and-cuda'\n"
     ]
    }
   ],
   "source": [
    "pip install tensorflow[and-cuda]"
   ]
  },
  {
   "cell_type": "code",
   "execution_count": 5,
   "metadata": {},
   "outputs": [
    {
     "name": "stdout",
     "output_type": "stream",
     "text": [
      "Downloading data from https://www.cs.toronto.edu/~kriz/cifar-10-python.tar.gz\n",
      "170498071/170498071 [==============================] - 4s 0us/step\n"
     ]
    }
   ],
   "source": [
    "# Load data\n",
    "(x_train, y_train), (x_test, y_test) = keras.datasets.cifar10.load_data()"
   ]
  },
  {
   "cell_type": "code",
   "execution_count": 6,
   "metadata": {},
   "outputs": [],
   "source": [
    "# Normalize data\n",
    "x_train = x_train / 255.0\n",
    "x_test = x_test / 255.0"
   ]
  },
  {
   "cell_type": "code",
   "execution_count": 7,
   "metadata": {},
   "outputs": [],
   "source": [
    "# Flatten images\n",
    "nsamples, nx, ny, nrgb = x_train.shape\n",
    "x_train_flat = x_train.reshape((nsamples, nx*ny*nrgb))\n",
    "x_test_flat = x_test.reshape((x_test.shape[0], nx*ny*nrgb))"
   ]
  },
  {
   "cell_type": "code",
   "execution_count": 8,
   "metadata": {},
   "outputs": [],
   "source": [
    "# Convert labels to one-hot encoding\n",
    "y_train_cat = to_categorical(y_train, num_classes=10)\n",
    "y_test_cat = to_categorical(y_test, num_classes=10)"
   ]
  },
  {
   "cell_type": "code",
   "execution_count": 9,
   "metadata": {},
   "outputs": [],
   "source": [
    "# Build logistic regression model\n",
    "model = Sequential([\n",
    "    Dense(10, input_dim=nx*ny*nrgb, activation='softmax')\n",
    "])"
   ]
  },
  {
   "cell_type": "code",
   "execution_count": 10,
   "metadata": {},
   "outputs": [],
   "source": [
    "# Compile the model\n",
    "model.compile(optimizer='adam', loss='categorical_crossentropy', metrics=['accuracy'])"
   ]
  },
  {
   "cell_type": "code",
   "execution_count": 11,
   "metadata": {},
   "outputs": [
    {
     "name": "stdout",
     "output_type": "stream",
     "text": [
      "Epoch 1/10\n",
      "1407/1407 [==============================] - 2s 963us/step - loss: 1.9605 - accuracy: 0.3154 - val_loss: 2.0591 - val_accuracy: 0.2934\n",
      "Epoch 2/10\n",
      "1407/1407 [==============================] - 1s 847us/step - loss: 1.8882 - accuracy: 0.3497 - val_loss: 1.8911 - val_accuracy: 0.3486\n",
      "Epoch 3/10\n",
      "1407/1407 [==============================] - 1s 862us/step - loss: 1.8547 - accuracy: 0.3642 - val_loss: 1.8706 - val_accuracy: 0.3614\n",
      "Epoch 4/10\n",
      "1407/1407 [==============================] - 1s 854us/step - loss: 1.8439 - accuracy: 0.3701 - val_loss: 1.8882 - val_accuracy: 0.3446\n",
      "Epoch 5/10\n",
      "1407/1407 [==============================] - 1s 861us/step - loss: 1.8317 - accuracy: 0.3745 - val_loss: 1.9968 - val_accuracy: 0.3214\n",
      "Epoch 6/10\n",
      "1407/1407 [==============================] - 1s 857us/step - loss: 1.8251 - accuracy: 0.3772 - val_loss: 1.8296 - val_accuracy: 0.3830\n",
      "Epoch 7/10\n",
      "1407/1407 [==============================] - 1s 851us/step - loss: 1.8093 - accuracy: 0.3829 - val_loss: 1.9904 - val_accuracy: 0.3326\n",
      "Epoch 8/10\n",
      "1407/1407 [==============================] - 1s 879us/step - loss: 1.8027 - accuracy: 0.3839 - val_loss: 1.9048 - val_accuracy: 0.3578\n",
      "Epoch 9/10\n",
      "1407/1407 [==============================] - 1s 841us/step - loss: 1.8031 - accuracy: 0.3834 - val_loss: 1.7999 - val_accuracy: 0.3728\n",
      "Epoch 10/10\n",
      "1407/1407 [==============================] - 1s 841us/step - loss: 1.7971 - accuracy: 0.3864 - val_loss: 2.0026 - val_accuracy: 0.3128\n"
     ]
    },
    {
     "data": {
      "text/plain": [
       "<keras.src.callbacks.History at 0x194c8ac45d0>"
      ]
     },
     "execution_count": 11,
     "metadata": {},
     "output_type": "execute_result"
    }
   ],
   "source": [
    "# Train the model\n",
    "model.fit(x_train_flat, y_train_cat, epochs=10, batch_size=32, validation_split=0.1)"
   ]
  },
  {
   "cell_type": "code",
   "execution_count": 12,
   "metadata": {},
   "outputs": [
    {
     "name": "stdout",
     "output_type": "stream",
     "text": [
      "313/313 [==============================] - 0s 615us/step - loss: 2.0056 - accuracy: 0.3107\n",
      "Test accuracy: 0.311\n"
     ]
    }
   ],
   "source": [
    "# Evaluate the model\n",
    "loss, accuracy = model.evaluate(x_test_flat, y_test_cat)\n",
    "print(f\"Test accuracy: {accuracy:.3f}\")"
   ]
  },
  {
   "cell_type": "code",
   "execution_count": 13,
   "metadata": {},
   "outputs": [
    {
     "name": "stdout",
     "output_type": "stream",
     "text": [
      "313/313 [==============================] - 0s 537us/step\n",
      "              precision    recall  f1-score   support\n",
      "\n",
      "           0       0.65      0.18      0.28      1000\n",
      "           1       0.55      0.30      0.39      1000\n",
      "           2       0.37      0.02      0.04      1000\n",
      "           3       0.32      0.10      0.16      1000\n",
      "           4       0.22      0.69      0.33      1000\n",
      "           5       0.31      0.32      0.32      1000\n",
      "           6       0.63      0.11      0.19      1000\n",
      "           7       0.61      0.16      0.25      1000\n",
      "           8       0.46      0.43      0.45      1000\n",
      "           9       0.24      0.79      0.37      1000\n",
      "\n",
      "    accuracy                           0.31     10000\n",
      "   macro avg       0.44      0.31      0.28     10000\n",
      "weighted avg       0.44      0.31      0.28     10000\n",
      "\n",
      "[[178  28   1   7 194  27   2   8 183 372]\n",
      " [  6 299   3  17  73  38   6  17  69 472]\n",
      " [ 32  31  23  21 556  85  18  10  47 177]\n",
      " [  3  29   8 105 324 223   9   9  40 250]\n",
      " [ 11  10   5  20 690  73  12  15  24 140]\n",
      " [  6  22  11  66 334 319   6  14  47 175]\n",
      " [  3  20   6  63 477 112 113  10  19 177]\n",
      " [  5  20   4  19 380  77   4 161  31 299]\n",
      " [ 23  21   1   4  55  43   0   7 434 412]\n",
      " [  7  61   0   5  54  22   9  13  44 785]]\n"
     ]
    }
   ],
   "source": [
    "# Predictions for further evaluation\n",
    "y_pred = model.predict(x_test_flat)\n",
    "y_pred_classes = np.argmax(y_pred, axis=1)\n",
    "\n",
    "print(classification_report(y_test, y_pred_classes))\n",
    "print(confusion_matrix(y_test.ravel(), y_pred_classes))"
   ]
  }
 ],
 "metadata": {
  "kernelspec": {
   "display_name": "base",
   "language": "python",
   "name": "python3"
  },
  "language_info": {
   "codemirror_mode": {
    "name": "ipython",
    "version": 3
   },
   "file_extension": ".py",
   "mimetype": "text/x-python",
   "name": "python",
   "nbconvert_exporter": "python",
   "pygments_lexer": "ipython3",
   "version": "3.11.4"
  }
 },
 "nbformat": 4,
 "nbformat_minor": 2
}
